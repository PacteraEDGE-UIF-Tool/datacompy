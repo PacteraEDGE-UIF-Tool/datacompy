{
  "nbformat": 4,
  "nbformat_minor": 0,
  "metadata": {
    "colab": {
      "name": "「RNN_without_0_padding_100_charater_predict_next.ipynb」的副本",
      "provenance": [],
      "collapsed_sections": []
    },
    "kernelspec": {
      "name": "python3",
      "display_name": "Python 3"
    },
    "language_info": {
      "name": "python"
    }
  },
  "cells": [
    {
      "cell_type": "code",
      "execution_count": 1,
      "metadata": {
        "colab": {
          "base_uri": "https://localhost:8080/"
        },
        "id": "NiEJzyXLCDNB",
        "outputId": "af7d7f9c-d02f-49a1-911d-e7bca495965d"
      },
      "outputs": [
        {
          "output_type": "stream",
          "name": "stdout",
          "text": [
            "Your runtime has 13.6 gigabytes of available RAM\n",
            "\n",
            "Not using a high-RAM runtime\n"
          ]
        }
      ],
      "source": [
        "from psutil import virtual_memory\n",
        "ram_gb = virtual_memory().total / 1e9\n",
        "print('Your runtime has {:.1f} gigabytes of available RAM\\n'.format(ram_gb))\n",
        "\n",
        "if ram_gb < 20:\n",
        "  print('Not using a high-RAM runtime')\n",
        "else:\n",
        "  print('You are using a high-RAM runtime!')"
      ]
    },
    {
      "cell_type": "code",
      "source": [
        "#https://towardsdatascience.com/protein-sequence-classification-99c80d0ad2df refference\n",
        "#https://www.kaggle.com/code/ismailyc/my-pfam-solution"
      ],
      "metadata": {
        "id": "34bt0rwTrtcg"
      },
      "execution_count": 2,
      "outputs": []
    },
    {
      "cell_type": "code",
      "source": [
        "gpu_info = !nvidia-smi\n",
        "gpu_info = '\\n'.join(gpu_info)\n",
        "if gpu_info.find('failed') >= 0:\n",
        "  print('Select the Runtime > \"Change runtime type\" menu to enable a GPU accelerator, ')\n",
        "  print('and then re-execute this cell.')\n",
        "else:\n",
        "  print(gpu_info)"
      ],
      "metadata": {
        "colab": {
          "base_uri": "https://localhost:8080/"
        },
        "id": "_EtBRKnvCL2V",
        "outputId": "da97847b-40b8-46d8-aaf1-6371db357f7d"
      },
      "execution_count": 3,
      "outputs": [
        {
          "output_type": "stream",
          "name": "stdout",
          "text": [
            "Select the Runtime > \"Change runtime type\" menu to enable a GPU accelerator, \n",
            "and then re-execute this cell.\n"
          ]
        }
      ]
    },
    {
      "cell_type": "code",
      "source": [
        "import pandas as pd\n",
        "import tensorflow as tf\n",
        "import numpy as np\n",
        "import random\n",
        "from tensorflow.keras.preprocessing.sequence import pad_sequences\n",
        "import os"
      ],
      "metadata": {
        "id": "O6XeGkggSMjb"
      },
      "execution_count": 4,
      "outputs": []
    },
    {
      "cell_type": "code",
      "source": [
        "from google.colab import drive\n",
        "drive.mount('/content/drive')"
      ],
      "metadata": {
        "colab": {
          "base_uri": "https://localhost:8080/"
        },
        "id": "mOJtojBoCYbj",
        "outputId": "e3851134-804d-4936-d56a-c34f7654b3b7"
      },
      "execution_count": 5,
      "outputs": [
        {
          "output_type": "stream",
          "name": "stdout",
          "text": [
            "Mounted at /content/drive\n"
          ]
        }
      ]
    },
    {
      "cell_type": "code",
      "source": [
        "!ls /content/drive/MyDrive/Pactera/2022-04-12-log-datasets"
      ],
      "metadata": {
        "colab": {
          "base_uri": "https://localhost:8080/"
        },
        "id": "0GCaiUK8CcoT",
        "outputId": "797d8781-d73d-47ae-8f5c-6a0656c70bfe"
      },
      "execution_count": 7,
      "outputs": [
        {
          "output_type": "stream",
          "name": "stdout",
          "text": [
            "model1.png  output_win10.txt  output_win11.txt\n"
          ]
        }
      ]
    },
    {
      "cell_type": "code",
      "source": [
        "win10_file=open(\"/content/drive/MyDrive/Pactera/2022-04-12-log-datasets/output_win10.txt\", \"r\")\n",
        "win11_file=open(\"/content/drive/MyDrive/Pactera/2022-04-12-log-datasets/output_win11.txt\", \"r\")"
      ],
      "metadata": {
        "id": "AUEFr-GKDAhD"
      },
      "execution_count": 8,
      "outputs": []
    },
    {
      "cell_type": "code",
      "source": [
        "win10_data=win10_file.read()\n",
        "win11_data=win11_file.read()"
      ],
      "metadata": {
        "id": "Wu__TSjoDeuR"
      },
      "execution_count": 9,
      "outputs": []
    },
    {
      "cell_type": "code",
      "source": [
        "win10_tokens = list(win10_data.lower().split())\n",
        "win11_tokens=list(win11_data.lower().split())\n",
        "win10_token_size=len(win10_tokens)\n",
        "win11_token_size=len(win11_tokens)\n",
        "print(f\"win10 token size is:{win10_token_size}\")\n",
        "print(f\"win11 token size is:{win11_token_size}\")"
      ],
      "metadata": {
        "colab": {
          "base_uri": "https://localhost:8080/"
        },
        "id": "xjML7eTQDkkz",
        "outputId": "f3afc275-8510-42b0-b030-3970125a1c51"
      },
      "execution_count": 10,
      "outputs": [
        {
          "output_type": "stream",
          "name": "stdout",
          "text": [
            "win10 token size is:303301\n",
            "win11 token size is:140128\n"
          ]
        }
      ]
    },
    {
      "cell_type": "code",
      "source": [
        "print(win10_tokens[:50])\n",
        "print(win11_tokens[:50])"
      ],
      "metadata": {
        "colab": {
          "base_uri": "https://localhost:8080/"
        },
        "id": "69ym0WFoD3N6",
        "outputId": "6a7d933d-f4e3-4e22-e0ed-f55999463a90"
      },
      "execution_count": 11,
      "outputs": [
        {
          "output_type": "stream",
          "name": "stdout",
          "text": [
            "['getstartupinfow_*', 'getstartupinfow_ok', 'getstdhandle_*', 'getstdhandle_fail', 'getstdhandle_*', 'getstdhandle_fail', 'getstdhandle_*', 'getstdhandle_fail', 'getenvironmentstringsw_*', 'getenvironmentstringsw_ok', 'freeenvironmentstringsa_*', 'freeenvironmentstringsa_ok', 'getcommandlinea_*', 'getcommandlinea_ok', 'getcommandlinew_*', 'getcommandlinew_ok', 'getcpinfo_*', 'getcpinfo_ok', 'multibytetowidechar_*', 'multibytetowidechar_ok', 'multibytetowidechar_*', 'multibytetowidechar_ok', 'getstringtypew_*', 'getstringtypew_ok', 'multibytetowidechar_*', 'multibytetowidechar_ok', 'multibytetowidechar_*', 'multibytetowidechar_ok', 'lcmapstringw_*', 'lcmapstringw_ok', 'lcmapstringw_*', 'lcmapstringw_ok', 'multibytetowidechar_*', 'multibytetowidechar_ok', 'multibytetowidechar_*', 'multibytetowidechar_ok', 'lcmapstringw_*', 'lcmapstringw_ok', 'lcmapstringw_*', 'lcmapstringw_ok', 'encodepointer_*', 'encodepointer_ok', 'getsystemtimeasfiletime_*', 'getsystemtimeasfiletime_ok', 'encodepointer_*', 'encodepointer_ok', 'decodepointer_*', 'decodepointer_ok', 'decodepointer_*', 'decodepointer_ok']\n",
            "['getstartupinfow_*', 'getstartupinfow_ok', 'getstdhandle_*', 'getstdhandle_fail', 'getstdhandle_*', 'getstdhandle_fail', 'getstdhandle_*', 'getstdhandle_fail', 'getenvironmentstringsw_*', 'getenvironmentstringsw_ok', 'freeenvironmentstringsa_*', 'freeenvironmentstringsa_ok', 'getcommandlinea_*', 'getcommandlinea_ok', 'getcommandlinew_*', 'getcommandlinew_ok', 'getcpinfo_*', 'getcpinfo_ok', 'multibytetowidechar_*', 'multibytetowidechar_ok', 'multibytetowidechar_*', 'multibytetowidechar_ok', 'getstringtypew_*', 'getstringtypew_ok', 'multibytetowidechar_*', 'multibytetowidechar_ok', 'multibytetowidechar_*', 'multibytetowidechar_ok', 'lcmapstringw_*', 'lcmapstringw_ok', 'lcmapstringw_*', 'lcmapstringw_ok', 'multibytetowidechar_*', 'multibytetowidechar_ok', 'multibytetowidechar_*', 'multibytetowidechar_ok', 'lcmapstringw_*', 'lcmapstringw_ok', 'lcmapstringw_*', 'lcmapstringw_ok', 'encodepointer_*', 'encodepointer_ok', 'getsystemtimeasfiletime_*', 'getsystemtimeasfiletime_ok', 'encodepointer_*', 'encodepointer_ok', 'decodepointer_*', 'decodepointer_ok', 'decodepointer_*', 'decodepointer_ok']\n"
          ]
        }
      ]
    },
    {
      "cell_type": "code",
      "source": [
        "total_tokens=[*win10_tokens, *win11_tokens]"
      ],
      "metadata": {
        "id": "ZLMB9c8rJcaE"
      },
      "execution_count": 12,
      "outputs": []
    },
    {
      "cell_type": "code",
      "source": [
        "total_vocab, index = {}, 1  # start indexing from 1\n",
        "total_vocab['<pad>'] = 0  # add a padding token\n",
        "freqency_dict={}\n",
        "for token in total_tokens:\n",
        "  if token not in total_vocab:\n",
        "    freqency_dict[token]=1\n",
        "    total_vocab[token] = index\n",
        "    index += 1\n",
        "  else:\n",
        "    freqency_dict[token]+=1\n",
        "total_vocab_size = len(total_vocab)\n",
        "\n",
        "\n",
        "print(total_vocab)"
      ],
      "metadata": {
        "colab": {
          "base_uri": "https://localhost:8080/"
        },
        "id": "oWjahTLQD6oS",
        "outputId": "94911529-af57-4367-b7b9-5000257c83d7"
      },
      "execution_count": 13,
      "outputs": [
        {
          "output_type": "stream",
          "name": "stdout",
          "text": [
            "{'<pad>': 0, 'getstartupinfow_*': 1, 'getstartupinfow_ok': 2, 'getstdhandle_*': 3, 'getstdhandle_fail': 4, 'getenvironmentstringsw_*': 5, 'getenvironmentstringsw_ok': 6, 'freeenvironmentstringsa_*': 7, 'freeenvironmentstringsa_ok': 8, 'getcommandlinea_*': 9, 'getcommandlinea_ok': 10, 'getcommandlinew_*': 11, 'getcommandlinew_ok': 12, 'getcpinfo_*': 13, 'getcpinfo_ok': 14, 'multibytetowidechar_*': 15, 'multibytetowidechar_ok': 16, 'getstringtypew_*': 17, 'getstringtypew_ok': 18, 'lcmapstringw_*': 19, 'lcmapstringw_ok': 20, 'encodepointer_*': 21, 'encodepointer_ok': 22, 'getsystemtimeasfiletime_*': 23, 'getsystemtimeasfiletime_ok': 24, 'decodepointer_*': 25, 'decodepointer_ok': 26, 'isprocessorfeaturepresent_*': 27, 'isprocessorfeaturepresent_ok': 28, 'initializeslisthead_*': 29, 'initializeslisthead_ok': 30, 'initializecriticalsectionandspincount_*': 31, 'initializecriticalsectionandspincount_ok': 32, 'getmodulehandlew_*': 33, 'getmodulehandlew_ok': 34, 'notwindowapi_ok': 35, 'initonceinitialize_*': 36, 'initializeconditionvariable_*': 37, 'initializeconditionvariable_ok': 38, 'initonceinitialize_ok': 39, 'initializecriticalsectionex_*': 40, 'initializecriticalsectionex_ok': 41, 'getcurrentprocess_*': 42, 'getcurrentprocess_fail': 43, 'notwindowapi_*': 44, 'registerclipboardformatw_*': 45, 'registerclipboardformatw_ok': 46, 'cotaskmemalloc_*': 47, 'cotaskmemalloc_ok': 48, 'gettickcount_*': 49, 'gettickcount_ok': 50, 'isdbcsleadbyte_*': 51, 'isdbcsleadbyte_fail': 52, 'isdbcsleadbyte_ok': 53, 'tlsalloc_*': 54, 'tlsalloc_ok': 55, 'getenvironmentvariablea_*': 56, 'getenvironmentvariablea_ok': 57, 'regopenkeyexa_*': 58, 'regopenkeyexa_ok': 59, 'getprocessheap_*': 60, 'getprocessheap_ok': 61, 'flsalloc_*': 62, 'flsalloc_ok': 63, 'lcmapstringex_*': 64, 'lcmapstringex_ok': 65, 'getcurrentthread_*': 66, 'getcurrentthread_ok': 67, 'getthreadtimes_*': 68, 'getthreadtimes_ok': 69, 'heaprealloc_*': 70, 'heaprealloc_ok': 71, 'disablethreadlibrarycalls_*': 72, 'disablethreadlibrarycalls_ok': 73, 'createmutexw_*': 74, 'createmutexw_ok': 75, 'comparestringex_*': 76, 'comparestringex_ok': 77, 'setunhandledexceptionfilter_*': 78, 'setunhandledexceptionfilter_ok': 79, 'getmodulefilenamea_*': 80, 'getmodulefilenamea_ok': 81, 'localfree_*': 82, 'localfree_fail': 83, 'tlsgetvalue_*': 84, 'tlsgetvalue_fail': 85, 'tlssetvalue_*': 86, 'tlssetvalue_ok': 87, 'tlsgetvalue_ok': 88, 'getuserdefaultlcid_*': 89, 'getuserdefaultlcid_ok': 90, 'getlocaleinfow_*': 91, 'getlocaleinfow_ok': 92, 'seterrormode_*': 93, 'seterrormode_ok': 94, 'getfullpathnamew_*': 95, 'getfullpathnamew_ok': 96, 'getfileattributesexw_*': 97, 'getfileattributesexw_fail': 98, 'decodepointer_fail': 99, 'createfilew_*': 100, 'createfilew_fail': 101, 'formatmessagew_*': 102, 'formatmessagew_ok': 103, 'shgetspecialfolderpathw_*': 104, 'shgetspecialfolderpathw_ok': 105, 'getfileattributesexw_ok': 106, 'findfirstfileexw_*': 107, 'findfirstfileexw_ok': 108, 'findnextfilew_*': 109, 'findnextfilew_ok': 110, 'findnextfilew_fail': 111, 'findclose_*': 112, 'findclose_ok': 113, 'createfilew_ok': 114, 'getfileinformationbyhandle_*': 115, 'getfileinformationbyhandle_ok': 116, 'createfilemappingw_*': 117, 'createfilemappingw_ok': 118, 'mapviewoffile_*': 119, 'mapviewoffile_ok': 120, 'closehandle_*': 121, 'closehandle_ok': 122, 'unmapviewoffile_*': 123, 'unmapviewoffile_ok': 124, 'oleinitialize_*': 125, 'coinitializeex_*': 126, 'coinitializeex_ok': 127, 'gettokeninformation_*': 128, 'gettokeninformation_ok': 129, 'globaladdatomw_*': 130, 'globaladdatomw_ok': 131, 'oleinitialize_ok': 132, 'getdc_*': 133, 'getdc_ok': 134, 'getdevicecaps_*': 135, 'getdevicecaps_ok': 136, 'getkeyboardlayoutlist_*': 137, 'getkeyboardlayoutlist_ok': 138, 'setprocessdpiawareness_*': 139, 'setprocessdpiawareness_ok': 140, 'getsystemmetrics_*': 141, 'getsystemmetrics_ok': 142, 'getclassinfow_*': 143, 'getclassinfow_fail': 144, 'registerclassexw_*': 145, 'registerclassexw_ok': 146, 'createwindowexw_*': 147, 'createwindowexw_ok': 148, 'addclipboardformatlistener_*': 149, 'addclipboardformatlistener_ok': 150, 'enumdisplaymonitors_*': 151, 'getmonitorinfow_*': 152, 'getmonitorinfow_ok': 153, 'createdcw_*': 154, 'createdcw_ok': 155, 'getdpiformonitor_*': 156, 'getdpiformonitor_ok': 157, 'deletedc_*': 158, 'deletedc_ok': 159, 'enumdisplaymonitors_ok': 160, 'getsyscolor_*': 161, 'getsyscolor_ok': 162, 'systemparametersinfow_*': 163, 'systemparametersinfow_ok': 164, 'getstockobject_*': 165, 'getstockobject_ok': 166, 'getobjectw_*': 167, 'getobjectw_ok': 168, 'registerclassw_*': 169, 'registerclassw_ok': 170, 'setwindowlongw_*': 171, 'setwindowlongw_ok': 172, 'setwindowshookexw_*': 173, 'setwindowshookexw_ok': 174, 'getkeyboardlayout_*': 175, 'getkeyboardlayout_ok': 176, 'cocreateguid_*': 177, 'cocreateguid_ok': 178, 'queryperformancefrequency_*': 179, 'queryperformancefrequency_ok': 180, 'queryperformancecounter_*': 181, 'queryperformancecounter_ok': 182, 'isthemeactive_*': 183, 'isthemeactive_ok': 184, 'isappthemed_*': 185, 'isappthemed_ok': 186, 'getfiletype_*': 187, 'getfiletype_ok': 188, 'readfile_*': 189, 'readfile_ok': 190, 'filetimetosystemtime_*': 191, 'filetimetosystemtime_ok': 192, 'systemtimetotzspecificlocaltime_*': 193, 'systemtimetotzspecificlocaltime_ok': 194, 'gettimezoneinformation_*': 195, 'gettimezoneinformation_ok': 196, 'setfilepointerex_*': 197, 'setfilepointerex_ok': 198, 'postmessagew_*': 199, 'postmessagew_ok': 200, 'enumfontfamiliesexw_*': 201, 'createfontindirectw_*': 202, 'createfontindirectw_ok': 203, 'selectobject_*': 204, 'selectobject_ok': 205, 'deleteobject_*': 206, 'deleteobject_ok': 207, 'releasedc_*': 208, 'releasedc_ok': 209, 'enumfontfamiliesexw_ok': 210, 'createcompatibledc_*': 211, 'createcompatibledc_ok': 212, 'gettextmetricsw_*': 213, 'gettextmetricsw_ok': 214, 'getoutlinetextmetricsw_*': 215, 'getoutlinetextmetricsw_ok': 216, 'gettextfacew_*': 217, 'gettextfacew_ok': 218, 'getcharwidthi_*': 219, 'getcharwidthi_ok': 220, 'getcharabcwidthsw_*': 221, 'getcharabcwidthsw_ok': 222, 'getuserdefaultlangid_*': 223, 'getuserdefaultlangid_ok': 224, 'getcharabcwidthsi_*': 225, 'getcharabcwidthsi_ok': 226, 'getdesktopwindow_*': 227, 'getdesktopwindow_ok': 228, 'getwindowplacement_*': 229, 'getwindowplacement_ok': 230, 'getwindowrect_*': 231, 'getwindowrect_ok': 232, 'getparent_*': 233, 'getparent_fail': 234, 'getsyscolorbrush_*': 235, 'getsyscolorbrush_ok': 236, 'loadimagew_*': 237, 'loadimagew_ok': 238, 'adjustwindowrectex_*': 239, 'adjustwindowrectex_ok': 240, 'getcursorpos_*': 241, 'getcursorpos_ok': 242, 'getsystemmenu_*': 243, 'getsystemmenu_ok': 244, 'enablemenuitem_*': 245, 'enablemenuitem_fail': 246, 'getwindowlongw_*': 247, 'getwindowlongw_ok': 248, 'iswindowvisible_*': 249, 'iswindowvisible_fail': 250, 'registerdragdrop_*': 251, 'iswindow_*': 252, 'iswindow_ok': 253, 'getpropw_*': 254, 'getpropw_fail': 255, 'setpropw_*': 256, 'setpropw_ok': 257, 'createremotethreadex_*': 258, 'createremotethreadex_ok': 259, 'clsidfromstring_*': 260, 'clsidfromstring_ok': 261, 'cocreateinstance_*': 262, 'cocreateinstance_ok': 263, 'registerdragdrop_ok': 264, 'colockobjectexternal_*': 265, 'colockobjectexternal_ok': 266, 'sendmessagew_*': 267, 'sendmessagew_ok': 268, 'setwindowtextw_*': 269, 'setwindowtextw_ok': 270, 'getforegroundwindow_*': 271, 'getforegroundwindow_ok': 272, 'ischild_*': 273, 'ischild_fail': 274, 'getglyphoutlinew_*': 275, 'getglyphoutlinew_ok': 276, 'movewindow_*': 277, 'movewindow_ok': 278, 'getancestor_*': 279, 'getancestor_ok': 280, 'showwindow_*': 281, 'cogetmalloc_*': 282, 'cogetmalloc_ok': 283, 'showwindow_fail': 284, 'protector_ok': 285, 'peekmessagew_*': 286, 'getqueuestatus_*': 287, 'getqueuestatus_ok': 288, 'settimer_*': 289, 'settimer_ok': 290, 'callnexthookex_*': 291, 'callnexthookex_ok': 292, 'peekmessagew_ok': 293, 'dispatchmessagew_*': 294, 'getcaretblinktime_*': 295, 'getcaretblinktime_ok': 296, 'dispatchmessagew_ok': 297, 'clienttoscreen_*': 298, 'clienttoscreen_ok': 299, 'getmessageextrainfo_*': 300, 'getmessageextrainfo_ok': 301, 'getcapture_*': 302, 'getcapture_fail': 303, 'peekmessagew_fail': 304, 'trackmouseevent_*': 305, 'trackmouseevent_ok': 306, 'setcursor_*': 307, 'setcursor_ok': 308, 'getkeystate_*': 309, 'getkeystate_ok': 310, 'getupdaterect_*': 311, 'getupdaterect_ok': 312, 'beginpaint_*': 313, 'beginpaint_ok': 314, 'createdibsection_*': 315, 'createdibsection_ok': 316, 'gdiflush_*': 317, 'gdiflush_ok': 318, 'settextcolor_*': 319, 'settextcolor_ok': 320, 'setbkmode_*': 321, 'setbkmode_ok': 322, 'settextalign_*': 323, 'settextalign_ok': 324, 'exttextoutw_*': 325, 'exttextoutw_ok': 326, 'bitblt_*': 327, 'bitblt_ok': 328, 'endpaint_*': 329, 'endpaint_ok': 330, 'killtimer_*': 331, 'killtimer_ok': 332, 'iswindowvisible_ok': 333, 'setcapture_*': 334, 'setcapture_fail': 335, 'getcapture_ok': 336, 'getdoubleclicktime_*': 337, 'getdoubleclicktime_ok': 338, 'immassociatecontext_*': 339, 'immassociatecontext_ok': 340, 'screentoclient_*': 341, 'screentoclient_ok': 342, 'childwindowfrompointex_*': 343, 'childwindowfrompointex_ok': 344, 'releasecapture_*': 345, 'releasecapture_ok': 346, 'regcreatekeyexw_*': 347, 'regcreatekeyexw_ok': 348, 'isiconic_*': 349, 'isiconic_fail': 350, 'getparent_ok': 351, 'getfocus_*': 352, 'getfocus_ok': 353, 'getasynckeystate_*': 354, 'getasynckeystate_ok': 355, 'showwindow_ok': 356, 'getconsolewindow_*': 357, 'getconsolewindow_fail': 358, 'revokedragdrop_*': 359, 'removepropw_*': 360, 'removepropw_ok': 361, 'getpropw_ok': 362, 'globaldeleteatom_*': 363, 'globaldeleteatom_ok': 364, 'getcurrentprocessid_*': 365, 'getcurrentprocessid_ok': 366, 'revokedragdrop_ok': 367, 'destroywindow_*': 368, 'destroywindow_ok': 369, 'getfocus_fail': 370, 'getforegroundwindow_fail': 371, 'counmarshalinterface_*': 372, 'counmarshalinterface_ok': 373, 'releasestgmedium_*': 374, 'releasestgmedium_ok': 375, 'createthread_*': 376, 'createthread_ok': 377, 'getthreadpriority_*': 378, 'getthreadpriority_ok': 379, 'resumethread_*': 380, 'resumethread_ok': 381, 'getcurrentpackageid_*': 382, 'getcurrentpackageid_ok': 383, 'virtualalloc_*': 384, 'virtualalloc_ok': 385, 'getkeyboardstate_*': 386, 'getkeyboardstate_ok': 387, 'tounicode_*': 388, 'tounicode_ok': 389}\n"
          ]
        }
      ]
    },
    {
      "cell_type": "code",
      "source": [
        "print(len(total_vocab))"
      ],
      "metadata": {
        "colab": {
          "base_uri": "https://localhost:8080/"
        },
        "id": "KwrGEYkfXcpQ",
        "outputId": "31dcafac-1e6b-47c8-d198-1bfa3d63e6af"
      },
      "execution_count": 14,
      "outputs": [
        {
          "output_type": "stream",
          "name": "stdout",
          "text": [
            "390\n"
          ]
        }
      ]
    },
    {
      "cell_type": "code",
      "source": [
        "#print the dict[:10]\n",
        "first_10_items = {k: freqency_dict[k] for k in list(freqency_dict)[:10]}\n",
        "first_10_items"
      ],
      "metadata": {
        "colab": {
          "base_uri": "https://localhost:8080/"
        },
        "id": "v3MB7HKBREYW",
        "outputId": "91bd5f95-9fbf-4b43-f380-d0dffb23690a"
      },
      "execution_count": 15,
      "outputs": [
        {
          "output_type": "execute_result",
          "data": {
            "text/plain": [
              "{'freeenvironmentstringsa_*': 2,\n",
              " 'freeenvironmentstringsa_ok': 2,\n",
              " 'getcommandlinea_*': 4,\n",
              " 'getcommandlinea_ok': 4,\n",
              " 'getenvironmentstringsw_*': 4,\n",
              " 'getenvironmentstringsw_ok': 4,\n",
              " 'getstartupinfow_*': 6,\n",
              " 'getstartupinfow_ok': 6,\n",
              " 'getstdhandle_*': 12,\n",
              " 'getstdhandle_fail': 12}"
            ]
          },
          "metadata": {},
          "execution_count": 15
        }
      ]
    },
    {
      "cell_type": "code",
      "source": [
        "max_key=max(freqency_dict, key=freqency_dict.get)\n",
        "freqency_dict[max_key]"
      ],
      "metadata": {
        "colab": {
          "base_uri": "https://localhost:8080/"
        },
        "id": "i_NQ4OriVa4m",
        "outputId": "f68f22c8-5fde-461d-d4a3-bac1933673b3"
      },
      "execution_count": 16,
      "outputs": [
        {
          "output_type": "execute_result",
          "data": {
            "text/plain": [
              "67759"
            ]
          },
          "metadata": {},
          "execution_count": 16
        }
      ]
    },
    {
      "cell_type": "code",
      "source": [
        "win10_freqency_df=pd.DataFrame(data=freqency_dict, index=[\"seq_char_count\"])"
      ],
      "metadata": {
        "id": "o8WhMSH-R-Es"
      },
      "execution_count": 17,
      "outputs": []
    },
    {
      "cell_type": "code",
      "source": [
        "import matplotlib.pyplot as plt # plotting\n",
        "import seaborn as sns\n",
        "%matplotlib inline"
      ],
      "metadata": {
        "id": "zPYJ3r7qEYqP"
      },
      "execution_count": 18,
      "outputs": []
    },
    {
      "cell_type": "code",
      "source": [
        "win10_freqency_df=win10_freqency_df.T"
      ],
      "metadata": {
        "id": "SXWeKh9STyW-"
      },
      "execution_count": 19,
      "outputs": []
    },
    {
      "cell_type": "code",
      "source": [
        "def plot_seq_count(df, data_name):\n",
        "  sns.distplot(df['seq_char_count'].values)\n",
        "  plt.title(f'Sequence char count: {data_name}')\n",
        "  plt.grid(True)"
      ],
      "metadata": {
        "id": "wrjsaRYfQRqG"
      },
      "execution_count": 20,
      "outputs": []
    },
    {
      "cell_type": "code",
      "source": [
        "plot_seq_count(win10_freqency_df, \"train\")"
      ],
      "metadata": {
        "colab": {
          "base_uri": "https://localhost:8080/",
          "height": 335
        },
        "id": "NcfNI3pDTfbp",
        "outputId": "422ad6d8-ee8f-484c-8559-235ebc0e723e"
      },
      "execution_count": 21,
      "outputs": [
        {
          "output_type": "stream",
          "name": "stderr",
          "text": [
            "/usr/local/lib/python3.7/dist-packages/seaborn/distributions.py:2619: FutureWarning: `distplot` is a deprecated function and will be removed in a future version. Please adapt your code to use either `displot` (a figure-level function with similar flexibility) or `histplot` (an axes-level function for histograms).\n",
            "  warnings.warn(msg, FutureWarning)\n"
          ]
        },
        {
          "output_type": "display_data",
          "data": {
            "text/plain": [
              "<Figure size 432x288 with 1 Axes>"
            ],
            "image/png": "[encoded data removed]"
          },
          "metadata": {
            "needs_background": "light"
          }
        }
      ]
    },
    {
      "cell_type": "code",
      "source": [
        "#we only need the fix-length sequence in tranning in this version.\n",
        "'''\n",
        "def create_random_number_range_seqence_lenth_generator(min, max, token_number):\n",
        "  rand_list=[]\n",
        "  total_number=token_number\n",
        "  while(total_number>0):\n",
        "    rand_value=random.randrange(min, max)\n",
        "    total_number-=rand_value\n",
        "    if total_number<0:\n",
        "      rand_list.append(0-total_number)\n",
        "    else:\n",
        "      rand_list.append(rand_value)\n",
        "  return rand_list\n",
        "'''"
      ],
      "metadata": {
        "id": "OB-UYr73j25d",
        "colab": {
          "base_uri": "https://localhost:8080/",
          "height": 53
        },
        "outputId": "45796671-e349-47bf-f826-311039226ea1"
      },
      "execution_count": 22,
      "outputs": [
        {
          "output_type": "execute_result",
          "data": {
            "text/plain": [
              "'\\ndef create_random_number_range_seqence_lenth_generator(min, max, token_number):\\n  rand_list=[]\\n  total_number=token_number\\n  while(total_number>0):\\n    rand_value=random.randrange(min, max)\\n    total_number-=rand_value\\n    if total_number<0:\\n      rand_list.append(0-total_number)\\n    else:\\n      rand_list.append(rand_value)\\n  return rand_list\\n'"
            ],
            "application/vnd.google.colaboratory.intrinsic+json": {
              "type": "string"
            }
          },
          "metadata": {},
          "execution_count": 22
        }
      ]
    },
    {
      "cell_type": "markdown",
      "source": [
        ""
      ],
      "metadata": {
        "id": "AxgmbPyHmX8-"
      }
    },
    {
      "cell_type": "code",
      "source": [
        "'''\n",
        "import random\n",
        "def generate_random_length_list(min, max , total_token_number):\n",
        "  r_list=[]\n",
        "  num=total_token_number\n",
        "  while num>0:\n",
        "    randnum=random.randrange(min, max)\n",
        "    num-=randnum\n",
        "    if num<0:\n",
        "      r_list.append(num)\n",
        "    r_list.append(randnum)\n",
        "  return r_list\n",
        "'''"
      ],
      "metadata": {
        "id": "WnJvmHBILGse",
        "colab": {
          "base_uri": "https://localhost:8080/",
          "height": 53
        },
        "outputId": "b9cc6fa2-2003-4e82-e756-03cde44b4187"
      },
      "execution_count": 23,
      "outputs": [
        {
          "output_type": "execute_result",
          "data": {
            "text/plain": [
              "'\\nimport random\\ndef generate_random_length_list(min, max , total_token_number):\\n  r_list=[]\\n  num=total_token_number\\n  while num>0:\\n    randnum=random.randrange(min, max)\\n    num-=randnum\\n    if num<0:\\n      r_list.append(num)\\n    r_list.append(randnum)\\n  return r_list\\n'"
            ],
            "application/vnd.google.colaboratory.intrinsic+json": {
              "type": "string"
            }
          },
          "metadata": {},
          "execution_count": 23
        }
      ]
    },
    {
      "cell_type": "code",
      "source": [
        "'''\n",
        "MIN_GET_TOKEN_NUMBER=3\n",
        "MAX_GET_TOKEN_NUMBER=100\n",
        "\n",
        "\n",
        "win10_rand_len_list=generate_random_length_list(MIN_GET_TOKEN_NUMBER, MAX_GET_TOKEN_NUMBER,win10_token_size)\n",
        "print(win10_rand_len_list[:10])\n",
        "\n",
        "win11_rand_len_list=generate_random_length_list(MIN_GET_TOKEN_NUMBER, MAX_GET_TOKEN_NUMBER, win11_token_size)\n",
        "print(win11_rand_len_list[:11])\n",
        "'''"
      ],
      "metadata": {
        "colab": {
          "base_uri": "https://localhost:8080/",
          "height": 53
        },
        "id": "47Sch-GoMora",
        "outputId": "d1b2f06d-5883-4d29-c663-5a589caa57b7"
      },
      "execution_count": 24,
      "outputs": [
        {
          "output_type": "execute_result",
          "data": {
            "text/plain": [
              "'\\nMIN_GET_TOKEN_NUMBER=3\\nMAX_GET_TOKEN_NUMBER=100\\n\\n\\nwin10_rand_len_list=generate_random_length_list(MIN_GET_TOKEN_NUMBER, MAX_GET_TOKEN_NUMBER,win10_token_size)\\nprint(win10_rand_len_list[:10])\\n\\nwin11_rand_len_list=generate_random_length_list(MIN_GET_TOKEN_NUMBER, MAX_GET_TOKEN_NUMBER, win11_token_size)\\nprint(win11_rand_len_list[:11])\\n'"
            ],
            "application/vnd.google.colaboratory.intrinsic+json": {
              "type": "string"
            }
          },
          "metadata": {},
          "execution_count": 24
        }
      ]
    },
    {
      "cell_type": "code",
      "source": [
        "'''\n",
        "from tensorflow.keras.preprocessing.sequence import pad_sequences\n",
        "#tf.keras.preprocessing.sequence.pad_sequences(sequences,maxlen=None,dtype='int32',padding='pre',\n",
        "def integer_encoding(tokens, vocab, randlist):  \n",
        "  encode_list_of_list = []\n",
        "  encode_list=[]\n",
        "  target_list=[]\n",
        "  count=0\n",
        "  total_count=0\n",
        "  the_length_list_index_count=0\n",
        "  for token in tokens:\n",
        "    get_n_token_number=randlist[the_length_list_index_count]\n",
        "    token_encode= vocab[token]\n",
        "    encode_list.append(token_encode)\n",
        "    count+=1\n",
        "    total_count+=1\n",
        "    #next_token_index+=1\n",
        "    #note, it have to be len(SEQ)+1 cause the last number will be the label.\n",
        "    if count==get_n_token_number:\n",
        "      #create predict target list\n",
        "      target=tokens[total_count]\n",
        "      encode_target=vocab[target]\n",
        "      target_list.append(encode_target)\n",
        "\n",
        "      encode_list_of_list.append(np.array(encode_list))\n",
        "      encode_list=[]\n",
        "      count=0\n",
        "  return encode_list_of_list, target_list\n",
        "'''"
      ],
      "metadata": {
        "id": "OQTu05WlWqIg",
        "colab": {
          "base_uri": "https://localhost:8080/",
          "height": 87
        },
        "outputId": "647d1828-0ca1-4c2e-9618-39b75ef1db73"
      },
      "execution_count": 25,
      "outputs": [
        {
          "output_type": "execute_result",
          "data": {
            "text/plain": [
              "\"\\nfrom tensorflow.keras.preprocessing.sequence import pad_sequences\\n#tf.keras.preprocessing.sequence.pad_sequences(sequences,maxlen=None,dtype='int32',padding='pre',\\ndef integer_encoding(tokens, vocab, randlist):  \\n  encode_list_of_list = []\\n  encode_list=[]\\n  target_list=[]\\n  count=0\\n  total_count=0\\n  the_length_list_index_count=0\\n  for token in tokens:\\n    get_n_token_number=randlist[the_length_list_index_count]\\n    token_encode= vocab[token]\\n    encode_list.append(token_encode)\\n    count+=1\\n    total_count+=1\\n    #next_token_index+=1\\n    #note, it have to be len(SEQ)+1 cause the last number will be the label.\\n    if count==get_n_token_number:\\n      #create predict target list\\n      target=tokens[total_count]\\n      encode_target=vocab[target]\\n      target_list.append(encode_target)\\n\\n      encode_list_of_list.append(np.array(encode_list))\\n      encode_list=[]\\n      count=0\\n  return encode_list_of_list, target_list\\n\""
            ],
            "application/vnd.google.colaboratory.intrinsic+json": {
              "type": "string"
            }
          },
          "metadata": {},
          "execution_count": 25
        }
      ]
    },
    {
      "cell_type": "code",
      "source": [
        "#drop the last sequence less than the max_seq size\n",
        "MAX_SEQUENCE_LENGTH=100\n",
        "def generate_the_fix_length_encoded_sequence_and_target(tokens, vocab):\n",
        "  encode_list_of_list = []\n",
        "  encode_list=[]\n",
        "  target_list=[]\n",
        "\n",
        "  token_length=len(tokens)\n",
        "  sequence_number=int(token_length/MAX_SEQUENCE_LENGTH)\n",
        "  count=0\n",
        "  counter_of_sequence_number=0\n",
        "  for  token in tokens:\n",
        "\n",
        "    #index from 0, so the max length need to -1.\n",
        "    encode_list.append(vocab[token])\n",
        "    count+=1\n",
        "\n",
        "    if count % (MAX_SEQUENCE_LENGTH)==0: \n",
        "      encode_list_of_list.append(encode_list)\n",
        "      predict_token=tokens[count+1]\n",
        "      target_list.append(vocab[predict_token])\n",
        "      encode_list=[]\n",
        "      counter_of_sequence_number+=1\n",
        "    if counter_of_sequence_number==sequence_number-1:\n",
        "      break\n",
        "    \n",
        "\n",
        "  #drop_the_last_list_anyway\n",
        "  #encode_list_of_list=encode_list_of_list[:-1]\n",
        "  return encode_list_of_list, target_list\n",
        "\n",
        "\n",
        "  "
      ],
      "metadata": {
        "id": "RLmHywDckTyA"
      },
      "execution_count": 159,
      "outputs": []
    },
    {
      "cell_type": "code",
      "source": [
        "win10_encode_list_of_list, win10_target_list = generate_the_fix_length_encoded_sequence_and_target(win10_tokens, total_vocab)\n",
        "win11_encode_list_of_list, win11_target_list = generate_the_fix_length_encoded_sequence_and_target(win11_tokens, total_vocab)"
      ],
      "metadata": {
        "id": "Du3yar5Ce_Mc"
      },
      "execution_count": 160,
      "outputs": []
    },
    {
      "cell_type": "markdown",
      "source": [
        ""
      ],
      "metadata": {
        "id": "3QZZxdiOyUE6"
      }
    },
    {
      "cell_type": "code",
      "source": [
        "print(len(win11_encode_list_of_list))\n",
        "print(len(win10_encode_list_of_list))"
      ],
      "metadata": {
        "colab": {
          "base_uri": "https://localhost:8080/"
        },
        "id": "olUQNNuixX13",
        "outputId": "cb32a185-d499-47ee-ca43-3b908badbb8d"
      },
      "execution_count": 161,
      "outputs": [
        {
          "output_type": "stream",
          "name": "stdout",
          "text": [
            "1400\n",
            "3032\n"
          ]
        }
      ]
    },
    {
      "cell_type": "code",
      "source": [
        "'''\n",
        "SEQENCE_LENGTH=100\n",
        "#pad sequence with 0 until the length== SEQUENCE LENGTH\n",
        "win10_encode_list_of_list=pad_sequences(win10_encode_list_of_list,maxlen=SEQENCE_LENGTH,padding='post',value=0)\n",
        "win11_encode_list_of_list=pad_sequences(win11_encode_list_of_list,maxlen=SEQENCE_LENGTH,padding='post',value=0)\n",
        "'''"
      ],
      "metadata": {
        "id": "xmg4YKNJRPAf",
        "colab": {
          "base_uri": "https://localhost:8080/",
          "height": 53
        },
        "outputId": "d44fbd6c-98bf-45ac-bbe6-8a1064414587"
      },
      "execution_count": 162,
      "outputs": [
        {
          "output_type": "execute_result",
          "data": {
            "text/plain": [
              "\"\\nSEQENCE_LENGTH=100\\n#pad sequence with 0 until the length== SEQUENCE LENGTH\\nwin10_encode_list_of_list=pad_sequences(win10_encode_list_of_list,maxlen=SEQENCE_LENGTH,padding='post',value=0)\\nwin11_encode_list_of_list=pad_sequences(win11_encode_list_of_list,maxlen=SEQENCE_LENGTH,padding='post',value=0)\\n\""
            ],
            "application/vnd.google.colaboratory.intrinsic+json": {
              "type": "string"
            }
          },
          "metadata": {},
          "execution_count": 162
        }
      ]
    },
    {
      "cell_type": "code",
      "source": [
        "print(win10_encode_list_of_list[:3])\n",
        "print(len(win10_encode_list_of_list[0]))"
      ],
      "metadata": {
        "colab": {
          "base_uri": "https://localhost:8080/"
        },
        "id": "Z6RRYVs2Rr5Y",
        "outputId": "bf4a4efe-2daf-4068-fc4f-feee6c79e1f1"
      },
      "execution_count": 163,
      "outputs": [
        {
          "output_type": "stream",
          "name": "stdout",
          "text": [
            "[[1, 2, 3, 4, 3, 4, 3, 4, 5, 6, 7, 8, 9, 10, 11, 12, 13, 14, 15, 16, 15, 16, 17, 18, 15, 16, 15, 16, 19, 20, 19, 20, 15, 16, 15, 16, 19, 20, 19, 20, 21, 22, 23, 24, 21, 22, 25, 26, 25, 26, 21, 22, 21, 22, 27, 28, 29, 30, 31, 32, 33, 34, 35, 36, 37, 38, 39, 27, 28, 40, 41, 36, 37, 38, 39, 40, 41, 40, 41, 33, 34, 35, 42, 43, 44, 35, 31, 32, 31, 32, 31, 32, 45, 46, 35, 47, 48, 49, 50, 47], [48, 49, 50, 47, 48, 29, 30, 29, 30, 29, 30, 27, 28, 29, 30, 31, 32, 33, 34, 35, 36, 37, 38, 39, 27, 28, 36, 37, 38, 39, 36, 37, 38, 39, 36, 37, 38, 39, 33, 34, 35, 51, 52, 51, 53, 51, 53, 51, 53, 51, 53, 51, 53, 51, 53, 51, 53, 51, 53, 51, 53, 51, 53, 51, 53, 51, 53, 51, 53, 51, 53, 51, 53, 51, 53, 51, 53, 51, 53, 51, 53, 51, 53, 51, 53, 51, 53, 51, 53, 51, 53, 51, 53, 51, 53, 51, 53, 51, 53, 51], [53, 51, 53, 51, 53, 51, 53, 51, 53, 51, 53, 51, 53, 51, 53, 51, 53, 51, 53, 51, 53, 51, 53, 51, 53, 51, 53, 51, 53, 51, 53, 51, 53, 51, 53, 51, 53, 51, 53, 51, 53, 51, 53, 51, 53, 51, 53, 51, 53, 51, 53, 51, 53, 51, 53, 51, 53, 51, 53, 51, 53, 51, 53, 51, 53, 51, 53, 51, 53, 51, 53, 51, 53, 51, 53, 51, 53, 51, 53, 51, 53, 51, 53, 51, 53, 51, 53, 51, 53, 51, 53, 51, 53, 51, 53, 51, 53, 51, 53, 51]]\n",
            "100\n"
          ]
        }
      ]
    },
    {
      "cell_type": "code",
      "source": [
        "#not used for now\n",
        "def split_input_target(chunk):\n",
        "    input_text = chunk[:-1]\n",
        "    target_text = chunk[-1]\n",
        "    return input_text,target_text"
      ],
      "metadata": {
        "id": "_zrP2_Hzbb9e"
      },
      "execution_count": 164,
      "outputs": []
    },
    {
      "cell_type": "code",
      "source": [
        "print(len(win10_encode_list_of_list[0]))\n",
        "print(len(win10_encode_list_of_list[-1]))\n"
      ],
      "metadata": {
        "colab": {
          "base_uri": "https://localhost:8080/"
        },
        "id": "PObtO0s1fUBC",
        "outputId": "bdf5933f-562c-46c9-d7a4-b05c925cab58"
      },
      "execution_count": 165,
      "outputs": [
        {
          "output_type": "stream",
          "name": "stdout",
          "text": [
            "100\n",
            "100\n"
          ]
        }
      ]
    },
    {
      "cell_type": "code",
      "source": [
        "BATCH_SIZE=1\n",
        "total_data=np.reshape(win10_encode_list_of_list,(len(win10_encode_list_of_list),MAX_SEQENCE_LENGTH,BATCH_SIZE))\n",
        "#total_data=np.reshape(win10_encode_list_of_list,(30,100,1))\n",
        "valid_data=np.reshape(win11_encode_list_of_list,(len(win11_encode_list_of_list),MAX_SEQENCE_LENGTH,BATCH_SIZE))"
      ],
      "metadata": {
        "id": "pfjgv5ALsCdU"
      },
      "execution_count": 166,
      "outputs": []
    },
    {
      "cell_type": "code",
      "source": [
        "from tensorflow.keras.utils import to_categorical\n",
        "\n",
        "total_target_ohe=to_categorical(win10_target_list, num_classes=total_vocab_size)\n",
        "valid_target_ohe=to_categorical(win11_target_list, num_classes=total_vocab_size)"
      ],
      "metadata": {
        "id": "QxtlUf6ewJbL"
      },
      "execution_count": 167,
      "outputs": []
    },
    {
      "cell_type": "code",
      "source": [
        "print(total_data.shape)\n",
        "print(valid_data.shape)\n",
        "print(total_target_ohe.shape)\n",
        "print(valid_target_ohe.shape)"
      ],
      "metadata": {
        "colab": {
          "base_uri": "https://localhost:8080/"
        },
        "id": "FSjBLmTuw0eD",
        "outputId": "d5690ee5-db67-446b-a544-b13025aad034"
      },
      "execution_count": 168,
      "outputs": [
        {
          "output_type": "stream",
          "name": "stdout",
          "text": [
            "(3032, 100, 1)\n",
            "(1400, 100, 1)\n",
            "(3032, 390)\n",
            "(1400, 390)\n"
          ]
        }
      ]
    },
    {
      "cell_type": "code",
      "source": [
        "total_data"
      ],
      "metadata": {
        "colab": {
          "base_uri": "https://localhost:8080/"
        },
        "id": "u-BvSO5VuXDw",
        "outputId": "83d1745d-03e4-4223-ae54-662816ebbafd"
      },
      "execution_count": 169,
      "outputs": [
        {
          "output_type": "execute_result",
          "data": {
            "text/plain": [
              "array([[[  1],\n",
              "        [  2],\n",
              "        [  3],\n",
              "        ...,\n",
              "        [ 49],\n",
              "        [ 50],\n",
              "        [ 47]],\n",
              "\n",
              "       [[ 48],\n",
              "        [ 49],\n",
              "        [ 50],\n",
              "        ...,\n",
              "        [ 51],\n",
              "        [ 53],\n",
              "        [ 51]],\n",
              "\n",
              "       [[ 53],\n",
              "        [ 51],\n",
              "        [ 53],\n",
              "        ...,\n",
              "        [ 51],\n",
              "        [ 53],\n",
              "        [ 51]],\n",
              "\n",
              "       ...,\n",
              "\n",
              "       [[271],\n",
              "        [272],\n",
              "        [273],\n",
              "        ...,\n",
              "        [272],\n",
              "        [273],\n",
              "        [274]],\n",
              "\n",
              "       [[271],\n",
              "        [272],\n",
              "        [273],\n",
              "        ...,\n",
              "        [ 88],\n",
              "        [271],\n",
              "        [272]],\n",
              "\n",
              "       [[273],\n",
              "        [274],\n",
              "        [271],\n",
              "        ...,\n",
              "        [226],\n",
              "        [ 84],\n",
              "        [ 88]]])"
            ]
          },
          "metadata": {},
          "execution_count": 169
        }
      ]
    },
    {
      "cell_type": "code",
      "source": [
        "from tensorflow.keras import Input\n",
        "from tensorflow.keras.layers import Embedding\n",
        "from tensorflow.keras.layers import Bidirectional\n",
        "from tensorflow.keras.layers import LSTM\n",
        "from tensorflow.keras.regularizers import L2\n",
        "from tensorflow.keras.layers import Dropout\n",
        "from tensorflow.keras.layers import Dense\n",
        "from tensorflow.keras import Model\n",
        "from tensorflow.keras import Sequential\n",
        "\n",
        "\n",
        "'''\n",
        "x_input = Input(shape=(total_data.shape[1], total_data.shape[2]))\n",
        "emb = Embedding(21, 128, input_length=SEQENCE_LENGTH)(x_input)\n",
        "bi_rnn = Bidirectional(LSTM(64, kernel_regularizer=L2(0.01), recurrent_regularizer=L2(0.01), bias_regularizer=L2(0.01)))(emb)\n",
        "x = Dropout(0.3)(bi_rnn)\n",
        "\n",
        "# softmax classifier\n",
        "x_output = Dense(100, activation='softmax')(x)\n",
        "\n",
        "model1 = Model(inputs=x_input, outputs=x_output)\n",
        "model1.compile(optimizer='adam', loss='sparse_categorical_crossentropy', metrics=['accuracy'])\n",
        "embedding_vecor_length = 32\n",
        "model1 = Sequential()\n",
        "model1.add(Embedding(win10_vocab_size, 128,\n",
        "     batch_input_shape=[batch_size, None]))\n",
        "model1.add(LSTM(100))\n",
        "model1.add(Dense(1, activation='sigmoid'))\n",
        "model1.compile(loss='binary_crossentropy', optimizer='adam', metrics=['accuracy'],run_eagerly=True)\n",
        "print(model1.summary())\n",
        "\n",
        "model1 = tf.keras.Sequential([\n",
        "     tf.keras.layers.Embedding(win10_vocab_size, 128,\n",
        "     batch_input_shape=[batch_size, None]),\n",
        "#    tf.keras.layers.BatchNormalization(),\n",
        "#        tf.keras.layers.Dropout(0.2),\n",
        "                tf.keras.layers.GRU(256,\n",
        "     return_sequences=True,\n",
        "     stateful=True,\n",
        "     recurrent_initializer='glorot_uniform'),\n",
        "    tf.keras.layers.GRU(256,\n",
        "     return_sequences=True,\n",
        "     stateful=True,\n",
        "     recurrent_initializer='glorot_uniform'),\n",
        "     tf.keras.layers.Dense(win10_vocab_size),\n",
        " ])\n",
        "'''\n",
        "\n",
        "model=Sequential()\n",
        "model.add(Bidirectional(LSTM(256, return_sequences=True), input_shape=(total_data.shape[1], total_data.shape[2])))\n",
        "model.add(Bidirectional(LSTM(256)))\n",
        "model.add(Dropout(0.1))\n",
        "model.add(Dense(total_target_ohe.shape[1], activation='softmax'))\n",
        "model.compile(loss='categorical_crossentropy', optimizer='adam',metrics=['accuracy'])\n",
        "\n",
        "\n"
      ],
      "metadata": {
        "id": "913GLOQSnG28"
      },
      "execution_count": 289,
      "outputs": []
    },
    {
      "cell_type": "code",
      "source": [
        "tf.keras.utils.plot_model(\n",
        "    model, to_file='/content/drive/MyDrive/Pactera/2022-04-12-log-datasets/model1.png', show_shapes=True, show_layer_names=True,\n",
        "    rankdir='TB', expand_nested=False, dpi=96\n",
        ")"
      ],
      "metadata": {
        "colab": {
          "base_uri": "https://localhost:8080/",
          "height": 533
        },
        "id": "X215q1jznVZV",
        "outputId": "c1827d39-40c0-42b5-887d-1e013661e353"
      },
      "execution_count": 290,
      "outputs": [
        {
          "output_type": "execute_result",
          "data": {
            "text/plain": [
              "<IPython.core.display.Image object>"
            ],
            "image/png": "[encoded data removed]"
          },
          "metadata": {},
          "execution_count": 290
        }
      ]
    },
    {
      "cell_type": "code",
      "source": [
        "!ls ./drive/MyDrive/Pactera/deep_learning_trainning_weight"
      ],
      "metadata": {
        "id": "LxjCdqghENxX",
        "colab": {
          "base_uri": "https://localhost:8080/"
        },
        "outputId": "786c3a84-afd6-4e8c-e7a0-32cbc3e7a124"
      },
      "execution_count": 291,
      "outputs": [
        {
          "output_type": "stream",
          "name": "stdout",
          "text": [
            "checkpoint\t\t     ckpt_21.index\n",
            "ckpt_10.data-00000-of-00001  ckpt_22.data-00000-of-00001\n",
            "ckpt_10.index\t\t     ckpt_22.index\n",
            "ckpt_11.data-00000-of-00001  ckpt_23.data-00000-of-00001\n",
            "ckpt_11.index\t\t     ckpt_23.index\n",
            "ckpt_12.data-00000-of-00001  ckpt_24.data-00000-of-00001\n",
            "ckpt_12.index\t\t     ckpt_24.index\n",
            "ckpt_13.data-00000-of-00001  ckpt_25.data-00000-of-00001\n",
            "ckpt_13.index\t\t     ckpt_25.index\n",
            "ckpt_14.data-00000-of-00001  ckpt_2.data-00000-of-00001\n",
            "ckpt_14.index\t\t     ckpt_2.index\n",
            "ckpt_15.data-00000-of-00001  ckpt_3.data-00000-of-00001\n",
            "ckpt_15.index\t\t     ckpt_3.index\n",
            "ckpt_16.data-00000-of-00001  ckpt_4.data-00000-of-00001\n",
            "ckpt_16.index\t\t     ckpt_4.index\n",
            "ckpt_17.data-00000-of-00001  ckpt_5.data-00000-of-00001\n",
            "ckpt_17.index\t\t     ckpt_5.index\n",
            "ckpt_18.data-00000-of-00001  ckpt_6.data-00000-of-00001\n",
            "ckpt_18.index\t\t     ckpt_6.index\n",
            "ckpt_19.data-00000-of-00001  ckpt_7.data-00000-of-00001\n",
            "ckpt_19.index\t\t     ckpt_7.index\n",
            "ckpt_1.data-00000-of-00001   ckpt_8.data-00000-of-00001\n",
            "ckpt_1.index\t\t     ckpt_8.index\n",
            "ckpt_20.data-00000-of-00001  ckpt_9.data-00000-of-00001\n",
            "ckpt_20.index\t\t     ckpt_9.index\n",
            "ckpt_21.data-00000-of-00001\n"
          ]
        }
      ]
    },
    {
      "cell_type": "code",
      "source": [
        "\n",
        "\n",
        "checkpoint_dir=\"./drive/MyDrive/Pactera/deep_learning_trainning_weight\"\n",
        "checkpoint_prefix = os.path.join(checkpoint_dir, \"ckpt_{epoch}\")\n",
        "checkpoint_callback=tf.keras.callbacks.ModelCheckpoint(\n",
        "    filepath=checkpoint_prefix,\n",
        "    save_weights_only=True)"
      ],
      "metadata": {
        "id": "BbYuTpcjEMJA"
      },
      "execution_count": 292,
      "outputs": []
    },
    {
      "cell_type": "code",
      "source": [
        "\n",
        "history =model.fit(total_data,total_target_ohe, epochs=30, batch_size=1, callbacks=[checkpoint_callback], validation_data=(valid_data, valid_target_ohe), verbose=2)"
      ],
      "metadata": {
        "colab": {
          "base_uri": "https://localhost:8080/"
        },
        "id": "y_yfgTJnEuK9",
        "outputId": "7706c95d-ef38-4c90-af14-a2e6ecec7ffd"
      },
      "execution_count": null,
      "outputs": [
        {
          "output_type": "stream",
          "name": "stdout",
          "text": [
            "Epoch 1/30\n"
          ]
        }
      ]
    },
    {
      "cell_type": "code",
      "source": [
        "acc = history.history['acc']\n",
        "val_acc = history.history['val_acc']\n",
        "loss = history.history['loss']\n",
        "val_loss = history.history['val_loss']"
      ],
      "metadata": {
        "id": "yHBYXxETwIbn"
      },
      "execution_count": null,
      "outputs": []
    },
    {
      "cell_type": "code",
      "source": [
        "import matplotlib.pyplot as plt\n",
        "\n",
        "epochs = range(1, len(acc) + 1)\n",
        "\n",
        "plt.plot(epochs, acc, 'bo', label='Training acc')\n",
        "plt.plot(epochs, val_acc, 'b', label='Validation acc')\n",
        "plt.title('Training and validation accuracy')\n",
        "plt.legend()\n",
        "\n",
        "plt.figure()\n",
        "\n",
        "plt.plot(epochs, loss, 'bo', label='Training loss')\n",
        "plt.plot(epochs, val_loss, 'b', label='Validation loss')\n",
        "plt.title('Training and validation loss')\n",
        "plt.legend()\n",
        "\n",
        "plt.show()"
      ],
      "metadata": {
        "id": "-8IEgVcPwKSa"
      },
      "execution_count": null,
      "outputs": []
    },
    {
      "cell_type": "code",
      "source": [
        "model.save_weights(checkpoint_dir)"
      ],
      "metadata": {
        "id": "vhjJnHXowlHF"
      },
      "execution_count": 177,
      "outputs": []
    },
    {
      "cell_type": "code",
      "source": [
        "def verification( from_num , test_number ,sequence_len):\n",
        "  temperature=1\n",
        "  predict_result=[]\n",
        "  for i in range(0,test_number):\n",
        "    input_str=[ total_vocab[x] for x in win11_tokens[from_num + i : from_num + sequence_len + i]]\n",
        "    logist=model.predict(tf.expand_dims(input_str,0))\n",
        "\n",
        "    prediction = tf.nn.softmax(logist)\n",
        "    #shape=(1, 390)\n",
        "    #prediction=logist\n",
        "    prediction = prediction / temperature\n",
        "    predicted_id = tf.random.categorical(prediction, num_samples=1)[-1,0].numpy()\n",
        "    print(prediction[0, predicted_id])\n",
        "    predict_result.append(win11_tokens[predicted_id])\n",
        "  return predict_result\n",
        "  \n"
      ],
      "metadata": {
        "id": "URbF8V5GgYrd"
      },
      "execution_count": 276,
      "outputs": []
    },
    {
      "cell_type": "code",
      "source": [
        "result= verification(130,50,100)\n"
      ],
      "metadata": {
        "colab": {
          "base_uri": "https://localhost:8080/"
        },
        "id": "e9V3unPih95t",
        "outputId": "0a2e79df-7f6d-42be-845d-98f5e633c0b7"
      },
      "execution_count": 277,
      "outputs": [
        {
          "output_type": "stream",
          "name": "stdout",
          "text": [
            "tf.Tensor(0.00255332, shape=(), dtype=float32)\n",
            "tf.Tensor(0.0025528986, shape=(), dtype=float32)\n",
            "tf.Tensor(0.0025532627, shape=(), dtype=float32)\n",
            "tf.Tensor(0.0025529005, shape=(), dtype=float32)\n",
            "tf.Tensor(0.0025529666, shape=(), dtype=float32)\n",
            "tf.Tensor(0.0025531757, shape=(), dtype=float32)\n",
            "tf.Tensor(0.0025534618, shape=(), dtype=float32)\n",
            "tf.Tensor(0.0025530525, shape=(), dtype=float32)\n",
            "tf.Tensor(0.002553275, shape=(), dtype=float32)\n",
            "tf.Tensor(0.002553053, shape=(), dtype=float32)\n",
            "tf.Tensor(0.0025532742, shape=(), dtype=float32)\n",
            "tf.Tensor(0.002553053, shape=(), dtype=float32)\n",
            "tf.Tensor(0.0025532742, shape=(), dtype=float32)\n",
            "tf.Tensor(0.002553053, shape=(), dtype=float32)\n",
            "tf.Tensor(0.0025532742, shape=(), dtype=float32)\n",
            "tf.Tensor(0.002553053, shape=(), dtype=float32)\n",
            "tf.Tensor(0.0025532742, shape=(), dtype=float32)\n",
            "tf.Tensor(0.002553053, shape=(), dtype=float32)\n",
            "tf.Tensor(0.0025532742, shape=(), dtype=float32)\n",
            "tf.Tensor(0.002553053, shape=(), dtype=float32)\n",
            "tf.Tensor(0.0025532742, shape=(), dtype=float32)\n",
            "tf.Tensor(0.002553053, shape=(), dtype=float32)\n",
            "tf.Tensor(0.0025532742, shape=(), dtype=float32)\n",
            "tf.Tensor(0.002553053, shape=(), dtype=float32)\n",
            "tf.Tensor(0.0025532742, shape=(), dtype=float32)\n",
            "tf.Tensor(0.002553053, shape=(), dtype=float32)\n",
            "tf.Tensor(0.0025532742, shape=(), dtype=float32)\n",
            "tf.Tensor(0.002553053, shape=(), dtype=float32)\n",
            "tf.Tensor(0.0025532742, shape=(), dtype=float32)\n",
            "tf.Tensor(0.0025530532, shape=(), dtype=float32)\n",
            "tf.Tensor(0.0025549, shape=(), dtype=float32)\n",
            "tf.Tensor(0.002553053, shape=(), dtype=float32)\n",
            "tf.Tensor(0.002553307, shape=(), dtype=float32)\n",
            "tf.Tensor(0.002553053, shape=(), dtype=float32)\n",
            "tf.Tensor(0.0025532742, shape=(), dtype=float32)\n",
            "tf.Tensor(0.002553053, shape=(), dtype=float32)\n",
            "tf.Tensor(0.0025532742, shape=(), dtype=float32)\n",
            "tf.Tensor(0.002553053, shape=(), dtype=float32)\n",
            "tf.Tensor(0.0025532742, shape=(), dtype=float32)\n",
            "tf.Tensor(0.002553053, shape=(), dtype=float32)\n",
            "tf.Tensor(0.0025532823, shape=(), dtype=float32)\n",
            "tf.Tensor(0.002553053, shape=(), dtype=float32)\n",
            "tf.Tensor(0.0025532742, shape=(), dtype=float32)\n",
            "tf.Tensor(0.002553053, shape=(), dtype=float32)\n",
            "tf.Tensor(0.0025532742, shape=(), dtype=float32)\n",
            "tf.Tensor(0.002553053, shape=(), dtype=float32)\n",
            "tf.Tensor(0.0025532742, shape=(), dtype=float32)\n",
            "tf.Tensor(0.002553053, shape=(), dtype=float32)\n",
            "tf.Tensor(0.0025532742, shape=(), dtype=float32)\n",
            "tf.Tensor(0.002553053, shape=(), dtype=float32)\n"
          ]
        }
      ]
    },
    {
      "cell_type": "code",
      "source": [
        "result"
      ],
      "metadata": {
        "colab": {
          "base_uri": "https://localhost:8080/"
        },
        "id": "IG4YY2TjnGVB",
        "outputId": "52deca8a-4ab3-4a78-9101-f4165bb9924e"
      },
      "execution_count": 274,
      "outputs": [
        {
          "output_type": "execute_result",
          "data": {
            "text/plain": [
              "['isdbcsleadbyte_*',\n",
              " 'getsystemtimeasfiletime_*',\n",
              " 'isdbcsleadbyte_*',\n",
              " 'cotaskmemalloc_*',\n",
              " 'isdbcsleadbyte_ok',\n",
              " 'initializeconditionvariable_ok',\n",
              " 'initializeconditionvariable_*',\n",
              " 'isdbcsleadbyte_*',\n",
              " 'initializecriticalsectionex_*',\n",
              " 'isdbcsleadbyte_*',\n",
              " 'isdbcsleadbyte_*',\n",
              " 'initializeslisthead_*',\n",
              " 'getcommandlinew_ok',\n",
              " 'isdbcsleadbyte_*',\n",
              " 'getstartupinfow_ok',\n",
              " 'lcmapstringw_ok',\n",
              " 'isdbcsleadbyte_ok',\n",
              " 'isdbcsleadbyte_ok',\n",
              " 'isdbcsleadbyte_ok',\n",
              " 'isdbcsleadbyte_ok',\n",
              " 'isdbcsleadbyte_ok',\n",
              " 'notwindowapi_*',\n",
              " 'freeenvironmentstringsa_ok',\n",
              " 'isdbcsleadbyte_ok',\n",
              " 'isdbcsleadbyte_ok',\n",
              " 'initializecriticalsectionex_*',\n",
              " 'initializecriticalsectionandspincount_*',\n",
              " 'isdbcsleadbyte_*',\n",
              " 'isdbcsleadbyte_ok',\n",
              " 'isdbcsleadbyte_*',\n",
              " 'isdbcsleadbyte_*',\n",
              " 'getcurrentprocess_*',\n",
              " 'notwindowapi_ok',\n",
              " 'getcommandlinea_ok',\n",
              " 'isdbcsleadbyte_*',\n",
              " 'isdbcsleadbyte_*',\n",
              " 'multibytetowidechar_*',\n",
              " 'getcurrentprocess_*',\n",
              " 'isdbcsleadbyte_ok',\n",
              " 'isdbcsleadbyte_*',\n",
              " 'isdbcsleadbyte_*',\n",
              " 'isdbcsleadbyte_*',\n",
              " 'isdbcsleadbyte_ok',\n",
              " 'isdbcsleadbyte_ok',\n",
              " 'encodepointer_*',\n",
              " 'isdbcsleadbyte_*',\n",
              " 'isdbcsleadbyte_ok',\n",
              " 'isdbcsleadbyte_ok',\n",
              " 'isdbcsleadbyte_*',\n",
              " 'isdbcsleadbyte_ok']"
            ]
          },
          "metadata": {},
          "execution_count": 274
        }
      ]
    },
    {
      "cell_type": "code",
      "source": [
        "win11_tokens[130:180]"
      ],
      "metadata": {
        "colab": {
          "base_uri": "https://localhost:8080/"
        },
        "id": "8rECeCa9isCt",
        "outputId": "cd30bf7d-0e8f-4cca-932e-2a11d521ea59"
      },
      "execution_count": 275,
      "outputs": [
        {
          "output_type": "execute_result",
          "data": {
            "text/plain": [
              "['initonceinitialize_*',\n",
              " 'initializeconditionvariable_*',\n",
              " 'initializeconditionvariable_ok',\n",
              " 'initonceinitialize_ok',\n",
              " 'getmodulehandlew_*',\n",
              " 'getmodulehandlew_ok',\n",
              " 'notwindowapi_ok',\n",
              " 'isdbcsleadbyte_*',\n",
              " 'isdbcsleadbyte_fail',\n",
              " 'isdbcsleadbyte_*',\n",
              " 'isdbcsleadbyte_ok',\n",
              " 'isdbcsleadbyte_*',\n",
              " 'isdbcsleadbyte_ok',\n",
              " 'isdbcsleadbyte_*',\n",
              " 'isdbcsleadbyte_ok',\n",
              " 'isdbcsleadbyte_*',\n",
              " 'isdbcsleadbyte_ok',\n",
              " 'isdbcsleadbyte_*',\n",
              " 'isdbcsleadbyte_ok',\n",
              " 'isdbcsleadbyte_*',\n",
              " 'isdbcsleadbyte_ok',\n",
              " 'isdbcsleadbyte_*',\n",
              " 'isdbcsleadbyte_ok',\n",
              " 'isdbcsleadbyte_*',\n",
              " 'isdbcsleadbyte_ok',\n",
              " 'isdbcsleadbyte_*',\n",
              " 'isdbcsleadbyte_ok',\n",
              " 'isdbcsleadbyte_*',\n",
              " 'isdbcsleadbyte_ok',\n",
              " 'isdbcsleadbyte_*',\n",
              " 'isdbcsleadbyte_ok',\n",
              " 'isdbcsleadbyte_*',\n",
              " 'isdbcsleadbyte_ok',\n",
              " 'isdbcsleadbyte_*',\n",
              " 'isdbcsleadbyte_ok',\n",
              " 'isdbcsleadbyte_*',\n",
              " 'isdbcsleadbyte_ok',\n",
              " 'isdbcsleadbyte_*',\n",
              " 'isdbcsleadbyte_ok',\n",
              " 'isdbcsleadbyte_*',\n",
              " 'isdbcsleadbyte_ok',\n",
              " 'isdbcsleadbyte_*',\n",
              " 'isdbcsleadbyte_ok',\n",
              " 'isdbcsleadbyte_*',\n",
              " 'isdbcsleadbyte_ok',\n",
              " 'isdbcsleadbyte_*',\n",
              " 'isdbcsleadbyte_ok',\n",
              " 'isdbcsleadbyte_*',\n",
              " 'isdbcsleadbyte_ok',\n",
              " 'isdbcsleadbyte_*']"
            ]
          },
          "metadata": {},
          "execution_count": 275
        }
      ]
    },
    {
      "cell_type": "code",
      "source": [
        "input_str=[ total_vocab[x] for x in win11_tokens[1:101]]"
      ],
      "metadata": {
        "id": "DmvBP6IqbJhg"
      },
      "execution_count": 273,
      "outputs": []
    },
    {
      "cell_type": "code",
      "source": [
        "len(input_str)"
      ],
      "metadata": {
        "colab": {
          "base_uri": "https://localhost:8080/"
        },
        "id": "jQMhrhxobtHf",
        "outputId": "19f5acf1-f8c2-4d92-865b-6290f6d2c22b"
      },
      "execution_count": 213,
      "outputs": [
        {
          "output_type": "execute_result",
          "data": {
            "text/plain": [
              "100"
            ]
          },
          "metadata": {},
          "execution_count": 213
        }
      ]
    },
    {
      "cell_type": "code",
      "source": [
        "input_str"
      ],
      "metadata": {
        "colab": {
          "base_uri": "https://localhost:8080/"
        },
        "id": "0G9POVQWbvmY",
        "outputId": "1407344d-a375-4567-e4f6-a19a06142efe"
      },
      "execution_count": 214,
      "outputs": [
        {
          "output_type": "execute_result",
          "data": {
            "text/plain": [
              "[2,\n",
              " 3,\n",
              " 4,\n",
              " 3,\n",
              " 4,\n",
              " 3,\n",
              " 4,\n",
              " 5,\n",
              " 6,\n",
              " 7,\n",
              " 8,\n",
              " 9,\n",
              " 10,\n",
              " 11,\n",
              " 12,\n",
              " 13,\n",
              " 14,\n",
              " 15,\n",
              " 16,\n",
              " 15,\n",
              " 16,\n",
              " 17,\n",
              " 18,\n",
              " 15,\n",
              " 16,\n",
              " 15,\n",
              " 16,\n",
              " 19,\n",
              " 20,\n",
              " 19,\n",
              " 20,\n",
              " 15,\n",
              " 16,\n",
              " 15,\n",
              " 16,\n",
              " 19,\n",
              " 20,\n",
              " 19,\n",
              " 20,\n",
              " 21,\n",
              " 22,\n",
              " 23,\n",
              " 24,\n",
              " 21,\n",
              " 22,\n",
              " 25,\n",
              " 26,\n",
              " 25,\n",
              " 26,\n",
              " 21,\n",
              " 22,\n",
              " 21,\n",
              " 22,\n",
              " 27,\n",
              " 28,\n",
              " 29,\n",
              " 30,\n",
              " 31,\n",
              " 32,\n",
              " 33,\n",
              " 34,\n",
              " 35,\n",
              " 27,\n",
              " 28,\n",
              " 40,\n",
              " 41,\n",
              " 40,\n",
              " 41,\n",
              " 40,\n",
              " 41,\n",
              " 36,\n",
              " 37,\n",
              " 38,\n",
              " 39,\n",
              " 33,\n",
              " 34,\n",
              " 35,\n",
              " 42,\n",
              " 43,\n",
              " 44,\n",
              " 35,\n",
              " 31,\n",
              " 32,\n",
              " 31,\n",
              " 32,\n",
              " 31,\n",
              " 32,\n",
              " 45,\n",
              " 46,\n",
              " 35,\n",
              " 47,\n",
              " 48,\n",
              " 49,\n",
              " 50,\n",
              " 47,\n",
              " 48,\n",
              " 49,\n",
              " 50,\n",
              " 47,\n",
              " 48]"
            ]
          },
          "metadata": {},
          "execution_count": 214
        }
      ]
    },
    {
      "cell_type": "code",
      "source": [
        "logist=model.predict(tf.expand_dims(input_str,0))\n",
        "logist"
      ],
      "metadata": {
        "colab": {
          "base_uri": "https://localhost:8080/"
        },
        "id": "BpUUgCuEb33o",
        "outputId": "c1b24829-4299-4710-d0e7-be37ab6035e7"
      },
      "execution_count": 217,
      "outputs": [
        {
          "output_type": "execute_result",
          "data": {
            "text/plain": [
              "array([[9.51885326e-09, 1.00192059e-08, 7.64100161e-09, 1.32850948e-08,\n",
              "        8.51638582e-09, 1.46771271e-08, 9.11497278e-09, 9.72512737e-09,\n",
              "        1.12584733e-08, 1.00044639e-08, 1.46651500e-08, 1.05809370e-08,\n",
              "        8.68523387e-09, 9.05835140e-09, 8.10308265e-09, 2.55375053e-03,\n",
              "        9.15946788e-04, 8.04946065e-09, 1.65721801e-08, 1.06860769e-08,\n",
              "        9.00527564e-09, 1.46003524e-02, 4.13034678e-01, 1.24055521e-08,\n",
              "        1.04951523e-08, 1.23970538e-01, 2.85892226e-02, 7.39488915e-09,\n",
              "        8.15029733e-09, 9.56165103e-09, 8.57609539e-09, 7.88819860e-04,\n",
              "        1.33800242e-08, 9.62277724e-09, 7.69295916e-09, 1.16854010e-03,\n",
              "        1.00532604e-08, 7.36669170e-09, 7.93475419e-09, 1.03370716e-08,\n",
              "        1.24177202e-08, 1.25590649e-08, 6.81956358e-09, 8.69151506e-09,\n",
              "        9.41025213e-09, 8.18308621e-09, 9.33661148e-09, 1.61439448e-08,\n",
              "        7.71478081e-09, 3.07003289e-01, 1.08341300e-08, 7.49399215e-02,\n",
              "        1.30156952e-08, 1.33920244e-08, 1.04470592e-08, 9.59153379e-09,\n",
              "        8.25529334e-09, 1.17905001e-08, 7.51870921e-09, 1.05682503e-08,\n",
              "        7.48065965e-09, 8.78860185e-09, 8.12991097e-09, 7.82559084e-09,\n",
              "        8.84932483e-09, 1.76120410e-03, 6.44639497e-09, 1.39353062e-08,\n",
              "        1.07555396e-08, 8.72108963e-09, 1.15886494e-03, 4.40573407e-04,\n",
              "        9.90138282e-09, 8.43825720e-09, 1.33623503e-08, 1.25720545e-08,\n",
              "        8.98049013e-09, 2.80233733e-02, 1.20499539e-08, 1.27924880e-08,\n",
              "        1.02666684e-08, 1.41511380e-08, 8.95187835e-09, 6.91986468e-09,\n",
              "        8.81339729e-05, 8.84868356e-09, 6.93267932e-09, 6.99493352e-09,\n",
              "        1.12497974e-05, 1.06630900e-08, 1.03093090e-08, 9.65520819e-09,\n",
              "        9.08103015e-09, 2.87119019e-06, 2.14767579e-06, 1.44200908e-06,\n",
              "        1.26598532e-09, 7.76215980e-09, 6.63688349e-09, 8.57846683e-09,\n",
              "        1.15071410e-08, 8.97264840e-09, 1.07408411e-08, 1.00647721e-08,\n",
              "        1.28180853e-08, 1.12541789e-08, 1.02836220e-08, 1.66488837e-06,\n",
              "        1.66625996e-05, 9.41107464e-06, 5.59281408e-13, 1.05683915e-08,\n",
              "        1.01987103e-08, 1.21568844e-08, 2.71449608e-05, 3.16564319e-06,\n",
              "        2.14215778e-09, 9.99387861e-09, 3.51088758e-08, 9.03886566e-09,\n",
              "        1.03881845e-08, 1.57019068e-11, 9.29992361e-10, 7.96337929e-09,\n",
              "        9.36048661e-09, 6.73504985e-09, 7.19608373e-09, 9.99629979e-09,\n",
              "        8.35007086e-09, 8.42992343e-09, 9.55492396e-09, 9.86298776e-09,\n",
              "        1.08602602e-08, 5.08025266e-07, 1.72738185e-10, 1.07964002e-08,\n",
              "        9.71822889e-09, 7.11223302e-09, 9.31640365e-09, 9.95197347e-09,\n",
              "        8.33818259e-09, 8.75610873e-09, 2.67653595e-05, 9.81779191e-09,\n",
              "        9.60575974e-09, 1.11871072e-08, 8.00254085e-09, 1.15333769e-08,\n",
              "        8.93736019e-09, 8.11712919e-09, 9.33456423e-09, 9.64926095e-09,\n",
              "        8.71718164e-09, 1.13599841e-08, 8.95257912e-09, 9.33331723e-09,\n",
              "        6.36298569e-09, 9.68651026e-09, 1.07973335e-07, 6.84030647e-06,\n",
              "        9.79560788e-09, 7.27641059e-09, 8.51011794e-09, 2.06965566e-07,\n",
              "        6.03288730e-12, 3.77291844e-11, 2.82937620e-08, 1.30696272e-08,\n",
              "        1.05315676e-08, 9.43023259e-09, 6.56947785e-09, 7.06254077e-09,\n",
              "        5.54594726e-09, 1.18227703e-08, 1.24140254e-08, 7.27349692e-09,\n",
              "        9.26027877e-09, 1.30417614e-08, 1.07296207e-08, 8.08940115e-09,\n",
              "        1.20806058e-08, 5.62579430e-07, 8.11459813e-07, 1.03468754e-08,\n",
              "        7.72538211e-09, 1.31372335e-08, 9.28271948e-09, 4.62532711e-07,\n",
              "        4.23709601e-08, 5.67682491e-06, 6.36171762e-07, 1.03058104e-08,\n",
              "        1.02890763e-08, 6.36927533e-09, 7.61699237e-09, 1.01380246e-08,\n",
              "        7.96375854e-09, 1.75286201e-04, 1.73741155e-05, 1.15009766e-06,\n",
              "        2.18532657e-11, 1.59559917e-11, 7.28661842e-09, 1.49685291e-14,\n",
              "        1.53624092e-06, 7.62724937e-07, 6.83867230e-09, 9.33090192e-08,\n",
              "        9.43305611e-09, 3.90701551e-08, 6.19926022e-09, 7.20808579e-10,\n",
              "        9.49613099e-09, 8.47294768e-09, 1.01338484e-08, 1.64736011e-08,\n",
              "        7.75689113e-09, 1.15597176e-08, 1.10216103e-08, 2.94976246e-07,\n",
              "        8.68442296e-09, 7.09515461e-07, 1.04152464e-08, 8.66364314e-09,\n",
              "        1.21225003e-08, 1.13217400e-12, 1.29943937e-05, 1.33096707e-08,\n",
              "        7.42696216e-09, 7.62959917e-09, 4.68838035e-09, 1.12355414e-08,\n",
              "        4.34885017e-08, 1.09446869e-08, 8.82724116e-09, 7.41892014e-09,\n",
              "        9.31583521e-09, 8.91502339e-09, 7.39679384e-09, 3.59429713e-08,\n",
              "        1.50042724e-05, 3.34539365e-08, 3.37618000e-09, 1.05844293e-08,\n",
              "        1.20559767e-08, 1.04710587e-08, 9.88709736e-09, 9.76142916e-11,\n",
              "        1.16753562e-09, 8.31038172e-09, 7.14203097e-09, 7.68392638e-09,\n",
              "        9.19705112e-09, 6.31651620e-09, 1.71296719e-08, 8.62677219e-09,\n",
              "        1.01531761e-08, 7.81260123e-09, 8.91799967e-09, 6.66704203e-09,\n",
              "        8.22335977e-09, 1.05185585e-08, 1.24350219e-08, 8.22135249e-09,\n",
              "        5.69506797e-09, 8.77957174e-09, 9.10545062e-09, 8.79656703e-09,\n",
              "        5.62080116e-09, 1.06146336e-08, 1.17600898e-08, 4.76434309e-07,\n",
              "        1.31092307e-07, 1.31545661e-07, 2.04581943e-06, 5.08426012e-09,\n",
              "        1.96198613e-07, 8.22718782e-09, 1.05515534e-08, 8.32421510e-09,\n",
              "        1.08706022e-08, 6.13174755e-09, 9.99250638e-09, 7.23108640e-09,\n",
              "        9.93352156e-09, 1.03775104e-08, 2.64196593e-08, 1.36283340e-09,\n",
              "        9.15274168e-09, 2.27748417e-10, 4.33596714e-10, 7.77813938e-08,\n",
              "        2.43352275e-07, 2.03924046e-07, 2.25079748e-05, 1.23334987e-08,\n",
              "        8.91012775e-09, 2.09014028e-10, 1.95513596e-08, 8.71340777e-09,\n",
              "        5.94097644e-12, 1.22882033e-08, 3.20242407e-06, 2.33197124e-08,\n",
              "        3.50937626e-07, 9.66550751e-09, 1.07519504e-08, 8.67796501e-09,\n",
              "        8.47858939e-09, 1.63150574e-07, 4.28171177e-07, 9.44735312e-09,\n",
              "        1.15815215e-08, 1.12166774e-08, 1.01503108e-08, 7.66644703e-09,\n",
              "        2.93388462e-06, 1.26136070e-08, 2.35534685e-07, 7.67787522e-09,\n",
              "        3.41263643e-07, 2.69362062e-07, 4.11993460e-06, 7.79090481e-09,\n",
              "        8.84330620e-06, 7.63098527e-08, 1.24969137e-08, 1.11670460e-08,\n",
              "        5.13702665e-12, 9.06032138e-09, 1.20055859e-08, 2.89979329e-09,\n",
              "        1.51939394e-09, 9.56464241e-09, 6.84641099e-09, 1.06768079e-08,\n",
              "        1.74107111e-08, 8.64482530e-09, 6.95370916e-09, 1.00234301e-08,\n",
              "        8.28136137e-09, 1.19015220e-09, 2.70342809e-07, 8.07565037e-09,\n",
              "        2.86975990e-07, 1.42278918e-08, 9.97871652e-09, 1.11110419e-08,\n",
              "        8.07447886e-09, 1.13028182e-08, 2.87573881e-10, 1.12798393e-08,\n",
              "        1.06759517e-08, 8.60732907e-09, 1.71988468e-08, 5.61042990e-10,\n",
              "        8.73470718e-09, 8.04200262e-09, 1.38527829e-08, 1.03533120e-08,\n",
              "        8.51213056e-09, 7.52047313e-09, 8.11050516e-09, 7.61771890e-09,\n",
              "        1.09081952e-08, 8.05609623e-09, 1.16512471e-08, 1.34156215e-08,\n",
              "        7.24254301e-09, 1.42510590e-08, 8.34967295e-09, 1.32330669e-09,\n",
              "        1.18971029e-08, 9.41432710e-09, 9.16670118e-09, 7.52510765e-09,\n",
              "        5.68646705e-04, 7.94379407e-09, 1.01895423e-10, 9.33452782e-09,\n",
              "        1.04271525e-08, 1.40912642e-08, 9.77142456e-09, 7.48071649e-09,\n",
              "        5.50160273e-09, 1.28229747e-08, 1.40599319e-08, 1.06717994e-08,\n",
              "        1.04928510e-08, 9.00896868e-09]], dtype=float32)"
            ]
          },
          "metadata": {},
          "execution_count": 217
        }
      ]
    },
    {
      "cell_type": "code",
      "source": [
        "        temperature=1\n",
        "        #prediction = tf.nn.softmax(logist)\n",
        "        prediction = prediction / temperature\n",
        "        predicted_id = tf.random.categorical(prediction, num_samples=1)[-1,0].numpy()\n",
        "        "
      ],
      "metadata": {
        "id": "nUB1ANlzcGvY"
      },
      "execution_count": 262,
      "outputs": []
    },
    {
      "cell_type": "code",
      "source": [
        "predicted_id"
      ],
      "metadata": {
        "colab": {
          "base_uri": "https://localhost:8080/"
        },
        "id": "TISyYjZScotp",
        "outputId": "8a99b762-834d-467d-e062-5561f78cf54b"
      },
      "execution_count": 219,
      "outputs": [
        {
          "output_type": "execute_result",
          "data": {
            "text/plain": [
              "346"
            ]
          },
          "metadata": {},
          "execution_count": 219
        }
      ]
    },
    {
      "cell_type": "code",
      "source": [
        "win11_tokens[102]"
      ],
      "metadata": {
        "colab": {
          "base_uri": "https://localhost:8080/",
          "height": 35
        },
        "id": "hTMpk-Yrdr-N",
        "outputId": "c60cf507-c348-468c-ab1d-030b10355d54"
      },
      "execution_count": 222,
      "outputs": [
        {
          "output_type": "execute_result",
          "data": {
            "text/plain": [
              "'initializeslisthead_ok'"
            ],
            "application/vnd.google.colaboratory.intrinsic+json": {
              "type": "string"
            }
          },
          "metadata": {},
          "execution_count": 222
        }
      ]
    },
    {
      "cell_type": "code",
      "source": [
        "win11_tokens[346]"
      ],
      "metadata": {
        "colab": {
          "base_uri": "https://localhost:8080/",
          "height": 35
        },
        "id": "kg0s6vs8dw4X",
        "outputId": "cf0ee76f-f63c-49e0-dbc1-e3b1a34e7730"
      },
      "execution_count": 223,
      "outputs": [
        {
          "output_type": "execute_result",
          "data": {
            "text/plain": [
              "'isdbcsleadbyte_ok'"
            ],
            "application/vnd.google.colaboratory.intrinsic+json": {
              "type": "string"
            }
          },
          "metadata": {},
          "execution_count": 223
        }
      ]
    },
    {
      "cell_type": "code",
      "source": [
        ""
      ],
      "metadata": {
        "id": "lmu7pMeQd5iY"
      },
      "execution_count": null,
      "outputs": []
    }
  ]
}